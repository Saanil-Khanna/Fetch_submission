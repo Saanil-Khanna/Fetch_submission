{
 "cells": [
  {
   "cell_type": "code",
   "execution_count": 27,
   "metadata": {},
   "outputs": [
    {
     "name": "stdout",
     "output_type": "stream",
     "text": [
      "Collecting findspark\n",
      "  Downloading findspark-2.0.1-py2.py3-none-any.whl (4.4 kB)\n",
      "Installing collected packages: findspark\n",
      "Successfully installed findspark-2.0.1\n",
      "Note: you may need to restart the kernel to use updated packages.\n"
     ]
    }
   ],
   "source": [
    "pip install findspark\n"
   ]
  },
  {
   "cell_type": "code",
   "execution_count": 4,
   "metadata": {},
   "outputs": [],
   "source": [
    "import findspark\n",
    "findspark.init()\n"
   ]
  },
  {
   "cell_type": "code",
   "execution_count": 5,
   "metadata": {},
   "outputs": [],
   "source": [
    "import pyspark\n",
    "from pyspark.sql import SparkSession"
   ]
  },
  {
   "cell_type": "code",
   "execution_count": 6,
   "metadata": {},
   "outputs": [
    {
     "name": "stderr",
     "output_type": "stream",
     "text": [
      "23/07/07 10:13:54 WARN Utils: Your hostname, Saanils-MacBook-Pro.local resolves to a loopback address: 127.0.0.1; using 192.168.1.242 instead (on interface en0)\n",
      "23/07/07 10:13:54 WARN Utils: Set SPARK_LOCAL_IP if you need to bind to another address\n",
      "Setting default log level to \"WARN\".\n",
      "To adjust logging level use sc.setLogLevel(newLevel). For SparkR, use setLogLevel(newLevel).\n",
      "23/07/07 10:13:55 WARN NativeCodeLoader: Unable to load native-hadoop library for your platform... using builtin-java classes where applicable\n"
     ]
    }
   ],
   "source": [
    "\n",
    "spark = SparkSession.builder.getOrCreate()"
   ]
  },
  {
   "cell_type": "code",
   "execution_count": 5,
   "metadata": {},
   "outputs": [
    {
     "data": {
      "text/html": [
       "\n",
       "            <div>\n",
       "                <p><b>SparkSession - in-memory</b></p>\n",
       "                \n",
       "        <div>\n",
       "            <p><b>SparkContext</b></p>\n",
       "\n",
       "            <p><a href=\"http://192.168.1.242:4040\">Spark UI</a></p>\n",
       "\n",
       "            <dl>\n",
       "              <dt>Version</dt>\n",
       "                <dd><code>v3.4.1</code></dd>\n",
       "              <dt>Master</dt>\n",
       "                <dd><code>local[*]</code></dd>\n",
       "              <dt>AppName</dt>\n",
       "                <dd><code>pyspark-shell</code></dd>\n",
       "            </dl>\n",
       "        </div>\n",
       "        \n",
       "            </div>\n",
       "        "
      ],
      "text/plain": [
       "<pyspark.sql.session.SparkSession at 0x7f8cc898d490>"
      ]
     },
     "execution_count": 5,
     "metadata": {},
     "output_type": "execute_result"
    }
   ],
   "source": [
    "spark"
   ]
  },
  {
   "cell_type": "code",
   "execution_count": 8,
   "metadata": {},
   "outputs": [
    {
     "name": "stderr",
     "output_type": "stream",
     "text": [
      "23/07/07 10:15:29 WARN package: Truncated the string representation of a plan since it was too large. This behavior can be adjusted by setting 'spark.sql.debug.maxToStringFields'.\n"
     ]
    }
   ],
   "source": [
    "from pyspark.sql.functions import explode\n",
    "from pyspark.sql import SparkSession\n",
    "from pyspark.sql.functions import from_unixtime, col\n",
    "\n",
    "spark.read.json('/Users/saanilkhanna/Downloads/Fetch /py/Submission/brands.json.gz').createOrReplaceTempView(\"brands\")\n",
    "spark.read.json('/Users/saanilkhanna/Downloads/Fetch /py/Submission/receipts.json.gz').createOrReplaceTempView(\"receipts\")\n",
    "spark.read.json('/Users/saanilkhanna/Downloads/Fetch /py/Submission/users.json.gz').createOrReplaceTempView(\"users\")\n",
    "\n",
    "df = spark.sql(\"\"\"select _id.*, * from users\"\"\")\n",
    "df.withColumnRenamed(df.columns[0], 'user_id_new').createOrReplaceTempView(\"users\")\n",
    "\n",
    "df = spark.sql(\"\"\"select cpg.*, * from brands\"\"\")\n",
    "df.select(\"$id.$oid\", '*').withColumnRenamed('$oid', 'cpg_id').createOrReplaceTempView(\"brands\")\n",
    "\n",
    "spark.sql(\"\"\"select * from receipts\"\"\").withColumn(\"rewardsReceiptItemList\", explode(\"rewardsReceiptItemList\")).createOrReplaceTempView(\"receipts\")"
   ]
  },
  {
   "cell_type": "code",
   "execution_count": 9,
   "metadata": {},
   "outputs": [],
   "source": [
    "spark.sql(\"\"\"\n",
    "select * from Receipts r\n",
    "inner join Users u on r.userId = u.user_id_new\n",
    "inner join Brands b on r.rewardsReceiptItemList.pointsPayerId = b.cpg_id;\n",
    "\"\"\").dropDuplicates().withColumn('receipt_id', col('r._id.$oid'))\\\n",
    "  .withColumn('createDate', from_unixtime(col('createDate.$date') / 1000).cast('timestamp'))\\\n",
    "    .withColumn('dateScanned', from_unixtime(col('dateScanned.$date') / 1000).cast('timestamp'))\\\n",
    "      .withColumn('finishedDate', from_unixtime(col('finishedDate.$date') / 1000).cast('timestamp'))\\\n",
    "        .withColumn('modifyDate', from_unixtime(col('modifyDate.$date') / 1000).cast('timestamp'))\\\n",
    "          .withColumn('pointsAwardedDate', from_unixtime(col('pointsAwardedDate.$date') / 1000).cast('timestamp'))\\\n",
    "            .withColumn('purchaseDate', from_unixtime(col('purchaseDate.$date') / 1000).cast('timestamp'))\\\n",
    "              .withColumn('createdDate', from_unixtime(col('createdDate.$date') / 1000).cast('timestamp'))\\\n",
    "                .withColumn('lastLogin', from_unixtime(col('lastLogin.$date') / 1000).cast('timestamp'))\\\n",
    "                  .drop(*['_id'])\\\n",
    "                    .select('receipt_id', 'bonusPointsEarned', 'bonusPointsEarnedReason', 'createDate', 'dateScanned', 'finishedDate', 'modifyDate',        'pointsAwardedDate', 'pointsEarned', 'purchaseDate', 'purchasedItemCount', 'rewardsReceiptItemList', 'rewardsReceiptStatus', 'totalSpent', 'userId', 'active', 'createdDate', 'role', 'signUpSource', 'state', 'cpg_id', 'barcode', 'brandCode', 'category', 'categoryCode', 'name', 'topBrand', 'receipt_id')\\\n",
    "                      .createOrReplaceTempView(\"shopping\")"
   ]
  },
  {
   "cell_type": "code",
   "execution_count": 11,
   "metadata": {},
   "outputs": [
    {
     "name": "stderr",
     "output_type": "stream",
     "text": [
      "                                                                                \r"
     ]
    },
    {
     "name": "stdout",
     "output_type": "stream",
     "text": [
      "+--------------------+-----------------+-----------------------+-------------------+-------------------+-------------------+-------------------+-------------------+------------+-------------------+------------------+----------------------+--------------------+----------+--------------------+------+-------------------+--------+------------+-----+--------------------+------------+--------------------+-------------------+-------------+--------------------+--------+--------------------+\n",
      "|          receipt_id|bonusPointsEarned|bonusPointsEarnedReason|         createDate|        dateScanned|       finishedDate|         modifyDate|  pointsAwardedDate|pointsEarned|       purchaseDate|purchasedItemCount|rewardsReceiptItemList|rewardsReceiptStatus|totalSpent|              userId|active|        createdDate|    role|signUpSource|state|              cpg_id|     barcode|           brandCode|           category| categoryCode|                name|topBrand|          receipt_id|\n",
      "+--------------------+-----------------+-----------------------+-------------------+-------------------+-------------------+-------------------+-------------------+------------+-------------------+------------------+----------------------+--------------------+----------+--------------------+------+-------------------+--------+------------+-----+--------------------+------------+--------------------+-------------------+-------------+--------------------+--------+--------------------+\n",
      "|5ff1e1b60a7214ada...|              150|   Receipt number 5 ...|2021-01-03 09:24:38|2021-01-03 09:24:38|               null|2021-01-03 09:24:38|               null|      8850.0|2021-02-03 09:24:38|                10|  {034100573065, nu...|             FLAGGED|    290.00|5ff1e194b6a9d73a3...|  true|2021-01-03 09:24:04|consumer|       Email|   WI|5332f709e4b03c9a2...|511111201359|       SMITH & FORGE|  Beer Wine Spirits|         null|Smith & Forge Har...|   false|5ff1e1b60a7214ada...|\n",
      "|5ff1e1d70a720f052...|               40|   COMPLETE_PARTNER_...|2021-01-03 09:25:11|2021-01-03 09:25:11|2021-01-03 09:25:12|2021-01-03 09:25:12|2021-01-03 09:25:12|       185.0|2021-01-02 09:25:11|                 2|  {2700719497082, n...|            FINISHED|      2.00|5ff1e194b6a9d73a3...|  true|2021-01-03 09:24:04|consumer|       Email|   WI|5332f5f6e4b03c9a2...|511111200758|              NEXXUS|      Personal Care|         null|              NEXXUS|   false|5ff1e1d70a720f052...|\n",
      "|5ff1e1d70a720f052...|               40|   COMPLETE_PARTNER_...|2021-01-03 09:25:11|2021-01-03 09:25:11|2021-01-03 09:25:12|2021-01-03 09:25:12|2021-01-03 09:25:12|       185.0|2021-01-02 09:25:11|                 2|  {2700719497082, n...|            FINISHED|      2.00|5ff1e194b6a9d73a3...|  true|2021-01-03 09:24:04|consumer|       Email|   WI|5332f5f6e4b03c9a2...|511111500667|            TRESEMME|      Personal Care|PERSONAL_CARE|            TRESEMME|   false|5ff1e1d70a720f052...|\n",
      "|5ff371030a7214ada...|              300|   Receipt number 4 ...|2021-01-04 13:48:19|2021-01-04 13:48:19|2021-01-04 13:48:20|2021-01-04 13:48:20|2021-01-04 13:48:20|       650.0|2020-12-19 18:00:00|                10|  {087684001127, nu...|            FINISHED|     10.00|5ff370c562fde9121...|  true|2021-01-04 13:47:17|consumer|       Email|   WI|559c2234e4b06aca3...|511111806172|HERSHEY'S WHIPPED...|              Dairy|         null|Hershey's Whipped...|    null|5ff371030a7214ada...|\n",
      "|5ff371030a7214ada...|              300|   Receipt number 4 ...|2021-01-04 13:48:19|2021-01-04 13:48:19|2021-01-04 13:48:20|2021-01-04 13:48:20|2021-01-04 13:48:20|       650.0|2020-12-19 18:00:00|                10|  {087684001127, nu...|            FINISHED|     10.00|5ff370c562fde9121...|  true|2021-01-04 13:47:17|consumer|       Email|   WI|559c2234e4b06aca3...|511111404880|            BENIHANA|             Frozen|         null|Benihana Frozen E...|    null|5ff371030a7214ada...|\n",
      "|5ff371030a7214ada...|              300|   Receipt number 4 ...|2021-01-04 13:48:19|2021-01-04 13:48:19|2021-01-04 13:48:20|2021-01-04 13:48:20|2021-01-04 13:48:20|       650.0|2020-12-19 18:00:00|                10|  {087684001127, nu...|            FINISHED|     10.00|5ff370c562fde9121...|  true|2021-01-04 13:47:17|consumer|       Email|   WI|559c2234e4b06aca3...|511111801962|                    |               Deli|         null|                  P3|   false|5ff371030a7214ada...|\n",
      "|5ff371030a7214ada...|              300|   Receipt number 4 ...|2021-01-04 13:48:19|2021-01-04 13:48:19|2021-01-04 13:48:20|2021-01-04 13:48:20|2021-01-04 13:48:20|       650.0|2020-12-19 18:00:00|                10|  {087684001127, nu...|            FINISHED|     10.00|5ff370c562fde9121...|  true|2021-01-04 13:47:17|consumer|       Email|   WI|559c2234e4b06aca3...|511111401155|            CLAUSSEN|               Deli|         null|            Claussen|   false|5ff371030a7214ada...|\n",
      "|5ff371030a7214ada...|              300|   Receipt number 4 ...|2021-01-04 13:48:19|2021-01-04 13:48:19|2021-01-04 13:48:20|2021-01-04 13:48:20|2021-01-04 13:48:20|       650.0|2020-12-19 18:00:00|                10|  {087684001127, nu...|            FINISHED|     10.00|5ff370c562fde9121...|  true|2021-01-04 13:47:17|consumer|       Email|   WI|559c2234e4b06aca3...|511111001041|           HOFFMAN'S|              Dairy|         null|           Hoffman's|   false|5ff371030a7214ada...|\n",
      "|5ff371030a7214ada...|              300|   Receipt number 4 ...|2021-01-04 13:48:19|2021-01-04 13:48:19|2021-01-04 13:48:20|2021-01-04 13:48:20|2021-01-04 13:48:20|       650.0|2020-12-19 18:00:00|                10|  {087684001127, nu...|            FINISHED|     10.00|5ff370c562fde9121...|  true|2021-01-04 13:47:17|consumer|       Email|   WI|559c2234e4b06aca3...|511111802402|BACK TO NATURE DI...|            Grocery|         null|Back to Nature Meals|   false|5ff371030a7214ada...|\n",
      "|5ff36c750a7214ada...|             null|                   null|2021-01-04 13:28:53|2021-01-04 13:28:53|2021-01-04 13:28:54|2021-01-04 13:28:54|2021-01-04 13:28:54|       500.0|2021-01-03 13:28:53|                 9|  {029000079236, nu...|            FINISHED|     89.91|5ff36be7135e7011b...|  true|2021-01-04 13:26:31|consumer|       Email|   WI|559c2234e4b06aca3...|511111002369|        COUNTRY TIME|          Beverages|         null|        Country Time|   false|5ff36c750a7214ada...|\n",
      "|5ff36c750a7214ada...|             null|                   null|2021-01-04 13:28:53|2021-01-04 13:28:53|2021-01-04 13:28:54|2021-01-04 13:28:54|2021-01-04 13:28:54|       500.0|2021-01-03 13:28:53|                 9|  {029000079236, nu...|            FINISHED|     89.91|5ff36be7135e7011b...|  true|2021-01-04 13:26:31|consumer|       Email|   WI|559c2234e4b06aca3...|511111501824|                    |Condiments & Sauces|         null|     Kraft BBQ Sauce|   false|5ff36c750a7214ada...|\n",
      "|5ff36c750a7214ada...|             null|                   null|2021-01-04 13:28:53|2021-01-04 13:28:53|2021-01-04 13:28:54|2021-01-04 13:28:54|2021-01-04 13:28:54|       500.0|2021-01-03 13:28:53|                 9|  {029000079236, nu...|            FINISHED|     89.91|5ff36be7135e7011b...|  true|2021-01-04 13:26:31|consumer|       Email|   WI|559c2234e4b06aca3...|511111801030|             TASSIMO|          Beverages|         null|             Tassimo|   false|5ff36c750a7214ada...|\n",
      "|5ff36c750a7214ada...|             null|                   null|2021-01-04 13:28:53|2021-01-04 13:28:53|2021-01-04 13:28:54|2021-01-04 13:28:54|2021-01-04 13:28:54|       500.0|2021-01-03 13:28:53|                 9|  {029000079236, nu...|            FINISHED|     89.91|5ff36be7135e7011b...|  true|2021-01-04 13:26:31|consumer|       Email|   WI|559c2234e4b06aca3...|511111801962|                    |               Deli|         null|                  P3|   false|5ff36c750a7214ada...|\n",
      "|5ff36adb0a720f052...|             null|                   null|2021-01-04 13:22:03|2021-01-04 13:22:03|2021-01-04 13:22:04|2021-01-04 13:22:04|2021-01-04 13:22:04|       250.0|2020-12-30 00:00:00|                 5|  {044700009888, nu...|            FINISHED|     49.95|5ff36a3862fde9121...|  true|2021-01-04 13:19:20|consumer|       Email|   WI|559c2234e4b06aca3...|511111600633|       O THAT'S GOOD|              Dairy|         null|     O, That's Good!|   false|5ff36adb0a720f052...|\n",
      "|5ff36adb0a720f052...|             null|                   null|2021-01-04 13:22:03|2021-01-04 13:22:03|2021-01-04 13:22:04|2021-01-04 13:22:04|2021-01-04 13:22:04|       250.0|2020-12-30 00:00:00|                 5|  {044700009888, nu...|            FINISHED|     49.95|5ff36a3862fde9121...|  true|2021-01-04 13:19:20|consumer|       Email|   WI|559c2234e4b06aca3...|511111501985|  KRAFT MIRACLE WHIP|Condiments & Sauces|         null|        Miracle Whip|   false|5ff36adb0a720f052...|\n",
      "|5ff3710b0a7214ada...|              100|   Receipt number 6 ...|2021-01-04 13:48:27|2021-01-04 13:48:27|2021-01-04 13:48:28|2021-01-04 13:48:28|2021-01-04 13:48:28|       600.0|2021-01-03 13:48:27|                 9|  {044700033302, nu...|            FINISHED|     89.91|5ff370c562fde9121...|  true|2021-01-04 13:47:17|consumer|       Email|   WI|559c2234e4b06aca3...|511111201915|           TACO BELL|            Grocery|         null|           Taco Bell|   false|5ff3710b0a7214ada...|\n",
      "|5ff3710b0a7214ada...|              100|   Receipt number 6 ...|2021-01-04 13:48:27|2021-01-04 13:48:27|2021-01-04 13:48:28|2021-01-04 13:48:28|2021-01-04 13:48:28|       600.0|2021-01-03 13:48:27|                 9|  {044700033302, nu...|            FINISHED|     89.91|5ff370c562fde9121...|  true|2021-01-04 13:47:17|consumer|       Email|   WI|559c2234e4b06aca3...|511111004288|FOOD NETWORK KITC...|Condiments & Sauces|         null|FOOD NETWORK KITC...|   false|5ff3710b0a7214ada...|\n",
      "|5ff3710b0a7214ada...|              100|   Receipt number 6 ...|2021-01-04 13:48:27|2021-01-04 13:48:27|2021-01-04 13:48:28|2021-01-04 13:48:28|2021-01-04 13:48:28|       600.0|2021-01-03 13:48:27|                 9|  {044700033302, nu...|            FINISHED|     89.91|5ff370c562fde9121...|  true|2021-01-04 13:47:17|consumer|       Email|   WI|559c2234e4b06aca3...|511111701859|                KNOX|             Baking|         null|        Knox Gelatin|   false|5ff3710b0a7214ada...|\n",
      "|5ff36d9d0a720f052...|              100|   Receipt number 6 ...|2021-01-04 13:33:49|2021-01-04 13:33:49|2021-01-04 13:33:49|2021-01-04 13:33:49|2021-01-04 13:33:49|       225.0|2021-01-01 00:00:00|                 5|  {044700002810, nu...|            FINISHED|     25.00|5ff36d0362fde9121...|  true|2021-01-04 13:31:15|consumer|       Email|   WI|559c2234e4b06aca3...|511111502142|         GREY POUPON|Condiments & Sauces|         null|         Grey Poupon|   false|5ff36d9d0a720f052...|\n",
      "|5ff36c590a7214ada...|              150|   Receipt number 5 ...|2021-01-04 13:28:25|2021-01-04 13:28:25|2021-01-04 13:28:25|2021-01-04 13:28:25|2021-01-04 13:28:25|       275.0|2020-12-30 00:00:00|                 5|  {043000079904, nu...|            FINISHED|     25.00|5ff36be7135e7011b...|  true|2021-01-04 13:26:31|consumer|       Email|   WI|559c2234e4b06aca3...|511111804277|   JUST CRACK AN EGG| Breakfast & Cereal|         null|JUST CRACK AN EGG...|   false|5ff36c590a7214ada...|\n",
      "+--------------------+-----------------+-----------------------+-------------------+-------------------+-------------------+-------------------+-------------------+------------+-------------------+------------------+----------------------+--------------------+----------+--------------------+------+-------------------+--------+------------+-----+--------------------+------------+--------------------+-------------------+-------------+--------------------+--------+--------------------+\n",
      "only showing top 20 rows\n",
      "\n"
     ]
    }
   ],
   "source": [
    "spark.sql(\"\"\"SELECT * FROM shopping\"\"\").show()"
   ]
  },
  {
   "cell_type": "code",
   "execution_count": 1,
   "metadata": {},
   "outputs": [],
   "source": [
    "\n",
    "import pandas as pd\n",
    "\n",
    "\n",
    "\n",
    "\n",
    "\n"
   ]
  },
  {
   "cell_type": "code",
   "execution_count": 19,
   "metadata": {},
   "outputs": [
    {
     "name": "stderr",
     "output_type": "stream",
     "text": [
      "                                                                                \r"
     ]
    }
   ],
   "source": [
    "import pandas as pd\n",
    "\n",
    "df=spark.sql(\"\"\"\n",
    "select * from Receipts r\n",
    "inner join Users u on r.userId = u.user_id_new\n",
    "inner join Brands b on r.rewardsReceiptItemList.pointsPayerId = b.cpg_id;\n",
    "\"\"\").dropDuplicates().withColumn('receipt_id', col('r._id.$oid'))\\\n",
    "  .withColumn('createDate', from_unixtime(col('createDate.$date') / 1000).cast('timestamp'))\\\n",
    "    .withColumn('dateScanned', from_unixtime(col('dateScanned.$date') / 1000).cast('timestamp'))\\\n",
    "      .withColumn('finishedDate', from_unixtime(col('finishedDate.$date') / 1000).cast('timestamp'))\\\n",
    "        .withColumn('modifyDate', from_unixtime(col('modifyDate.$date') / 1000).cast('timestamp'))\\\n",
    "          .withColumn('pointsAwardedDate', from_unixtime(col('pointsAwardedDate.$date') / 1000).cast('timestamp'))\\\n",
    "            .withColumn('purchaseDate', from_unixtime(col('purchaseDate.$date') / 1000).cast('timestamp'))\\\n",
    "              .withColumn('createdDate', from_unixtime(col('createdDate.$date') / 1000).cast('timestamp'))\\\n",
    "                .withColumn('lastLogin', from_unixtime(col('lastLogin.$date') / 1000).cast('timestamp'))\\\n",
    "                  .drop(*['_id'])\\\n",
    "                    .select('receipt_id', 'bonusPointsEarned', 'bonusPointsEarnedReason', 'createDate', 'dateScanned', 'finishedDate', 'modifyDate',        'pointsAwardedDate', 'pointsEarned', 'purchaseDate', 'purchasedItemCount', 'rewardsReceiptItemList', 'rewardsReceiptStatus', 'totalSpent', 'userId', 'active', 'createdDate', 'role', 'signUpSource', 'state', 'cpg_id', 'barcode', 'brandCode', 'category', 'categoryCode', 'name', 'topBrand', 'receipt_id')\\\n",
    "                      \n",
    "\n",
    "pandas_df = df.toPandas()\n",
    "\n",
    "pandas_df.to_csv('Final.csv', index=False)"
   ]
  },
  {
   "cell_type": "code",
   "execution_count": 10,
   "metadata": {},
   "outputs": [
    {
     "ename": "AnalysisException",
     "evalue": "[DATATYPE_MISMATCH.UNEXPECTED_INPUT_TYPE] Cannot resolve \"explode(rewardsReceiptItemList)\" due to data type mismatch: Parameter 1 requires the (\"ARRAY\" or \"MAP\") type, however \"rewardsReceiptItemList\" has the type \"STRUCT<barcode: STRING, brandCode: STRING, competitiveProduct: BOOLEAN, competitorRewardsGroup: STRING, deleted: BOOLEAN, description: STRING, discountedItemPrice: STRING, finalPrice: STRING, itemNumber: STRING, itemPrice: STRING, metabriteCampaignId: STRING, needsFetchReview: BOOLEAN, needsFetchReviewReason: STRING, originalFinalPrice: STRING, originalMetaBriteBarcode: STRING, originalMetaBriteDescription: STRING, originalMetaBriteItemPrice: STRING, originalMetaBriteQuantityPurchased: BIGINT, originalReceiptItemText: STRING, partnerItemId: STRING, pointsEarned: STRING, pointsNotAwardedReason: STRING, pointsPayerId: STRING, preventTargetGapPoints: BOOLEAN, priceAfterCoupon: STRING, quantityPurchased: BIGINT, rewardsGroup: STRING, rewardsProductPartnerId: STRING, targetPrice: STRING, userFlaggedBarcode: STRING, userFlaggedDescription: STRING, userFlaggedNewItem: BOOLEAN, userFlaggedPrice: STRING, userFlaggedQuantity: BIGINT>\".;\n'Project [_id#32, bonusPointsEarned#33L, bonusPointsEarnedReason#34, createDate#35, dateScanned#36, finishedDate#37, modifyDate#38, pointsAwardedDate#39, pointsEarned#40, purchaseDate#41, purchasedItemCount#42L, explode(rewardsReceiptItemList#154) AS rewardsReceiptItemList#613, rewardsReceiptStatus#44, totalSpent#45, userId#46]\n+- Project [_id#32, bonusPointsEarned#33L, bonusPointsEarnedReason#34, createDate#35, dateScanned#36, finishedDate#37, modifyDate#38, pointsAwardedDate#39, pointsEarned#40, purchaseDate#41, purchasedItemCount#42L, rewardsReceiptItemList#154, rewardsReceiptStatus#44, totalSpent#45, userId#46]\n   +- SubqueryAlias receipts\n      +- View (`receipts`, [_id#32,bonusPointsEarned#33L,bonusPointsEarnedReason#34,createDate#35,dateScanned#36,finishedDate#37,modifyDate#38,pointsAwardedDate#39,pointsEarned#40,purchaseDate#41,purchasedItemCount#42L,rewardsReceiptItemList#154,rewardsReceiptStatus#44,totalSpent#45,userId#46])\n         +- Project [_id#32, bonusPointsEarned#33L, bonusPointsEarnedReason#34, createDate#35, dateScanned#36, finishedDate#37, modifyDate#38, pointsAwardedDate#39, pointsEarned#40, purchaseDate#41, purchasedItemCount#42L, rewardsReceiptItemList#154, rewardsReceiptStatus#44, totalSpent#45, userId#46]\n            +- Generate explode(rewardsReceiptItemList#43), false, [rewardsReceiptItemList#154]\n               +- Project [_id#32, bonusPointsEarned#33L, bonusPointsEarnedReason#34, createDate#35, dateScanned#36, finishedDate#37, modifyDate#38, pointsAwardedDate#39, pointsEarned#40, purchaseDate#41, purchasedItemCount#42L, rewardsReceiptItemList#43, rewardsReceiptStatus#44, totalSpent#45, userId#46]\n                  +- SubqueryAlias receipts\n                     +- View (`receipts`, [_id#32,bonusPointsEarned#33L,bonusPointsEarnedReason#34,createDate#35,dateScanned#36,finishedDate#37,modifyDate#38,pointsAwardedDate#39,pointsEarned#40,purchaseDate#41,purchasedItemCount#42L,rewardsReceiptItemList#43,rewardsReceiptStatus#44,totalSpent#45,userId#46])\n                        +- Relation [_id#32,bonusPointsEarned#33L,bonusPointsEarnedReason#34,createDate#35,dateScanned#36,finishedDate#37,modifyDate#38,pointsAwardedDate#39,pointsEarned#40,purchaseDate#41,purchasedItemCount#42L,rewardsReceiptItemList#43,rewardsReceiptStatus#44,totalSpent#45,userId#46] json\n",
     "output_type": "error",
     "traceback": [
      "\u001b[0;31m---------------------------------------------------------------------------\u001b[0m",
      "\u001b[0;31mAnalysisException\u001b[0m                         Traceback (most recent call last)",
      "\u001b[1;32m/Users/saanilkhanna/Downloads/Fetch /py/Submission/Fetch_DT.ipynb Cell 11\u001b[0m in \u001b[0;36m<cell line: 1>\u001b[0;34m()\u001b[0m\n\u001b[0;32m----> <a href='vscode-notebook-cell:/Users/saanilkhanna/Downloads/Fetch%20/py/Submission/Fetch_DT.ipynb#X14sZmlsZQ%3D%3D?line=0'>1</a>\u001b[0m df\u001b[39m=\u001b[39m spark\u001b[39m.\u001b[39;49msql(\u001b[39m\"\"\"\u001b[39;49m\u001b[39mselect * from receipts\u001b[39;49m\u001b[39m\"\"\"\u001b[39;49m)\u001b[39m.\u001b[39;49mwithColumn(\u001b[39m\"\u001b[39;49m\u001b[39mrewardsReceiptItemList\u001b[39;49m\u001b[39m\"\u001b[39;49m, explode(\u001b[39m\"\u001b[39;49m\u001b[39mrewardsReceiptItemList\u001b[39;49m\u001b[39m\"\u001b[39;49m)) \n\u001b[1;32m      <a href='vscode-notebook-cell:/Users/saanilkhanna/Downloads/Fetch%20/py/Submission/Fetch_DT.ipynb#X14sZmlsZQ%3D%3D?line=2'>3</a>\u001b[0m pandas_df \u001b[39m=\u001b[39m df\u001b[39m.\u001b[39mtoPandas()\n\u001b[1;32m      <a href='vscode-notebook-cell:/Users/saanilkhanna/Downloads/Fetch%20/py/Submission/Fetch_DT.ipynb#X14sZmlsZQ%3D%3D?line=4'>5</a>\u001b[0m pandas_df\u001b[39m.\u001b[39mto_csv(\u001b[39m'\u001b[39m\u001b[39mexport_receipts.csv\u001b[39m\u001b[39m'\u001b[39m, index\u001b[39m=\u001b[39m\u001b[39mFalse\u001b[39;00m)\n",
      "File \u001b[0;32m~/opt/anaconda3/lib/python3.9/site-packages/pyspark/sql/dataframe.py:4789\u001b[0m, in \u001b[0;36mDataFrame.withColumn\u001b[0;34m(self, colName, col)\u001b[0m\n\u001b[1;32m   4784\u001b[0m \u001b[39mif\u001b[39;00m \u001b[39mnot\u001b[39;00m \u001b[39misinstance\u001b[39m(col, Column):\n\u001b[1;32m   4785\u001b[0m     \u001b[39mraise\u001b[39;00m PySparkTypeError(\n\u001b[1;32m   4786\u001b[0m         error_class\u001b[39m=\u001b[39m\u001b[39m\"\u001b[39m\u001b[39mNOT_COLUMN\u001b[39m\u001b[39m\"\u001b[39m,\n\u001b[1;32m   4787\u001b[0m         message_parameters\u001b[39m=\u001b[39m{\u001b[39m\"\u001b[39m\u001b[39marg_name\u001b[39m\u001b[39m\"\u001b[39m: \u001b[39m\"\u001b[39m\u001b[39mcol\u001b[39m\u001b[39m\"\u001b[39m, \u001b[39m\"\u001b[39m\u001b[39marg_type\u001b[39m\u001b[39m\"\u001b[39m: \u001b[39mtype\u001b[39m(col)\u001b[39m.\u001b[39m\u001b[39m__name__\u001b[39m},\n\u001b[1;32m   4788\u001b[0m     )\n\u001b[0;32m-> 4789\u001b[0m \u001b[39mreturn\u001b[39;00m DataFrame(\u001b[39mself\u001b[39;49m\u001b[39m.\u001b[39;49m_jdf\u001b[39m.\u001b[39;49mwithColumn(colName, col\u001b[39m.\u001b[39;49m_jc), \u001b[39mself\u001b[39m\u001b[39m.\u001b[39msparkSession)\n",
      "File \u001b[0;32m~/opt/anaconda3/lib/python3.9/site-packages/py4j/java_gateway.py:1322\u001b[0m, in \u001b[0;36mJavaMember.__call__\u001b[0;34m(self, *args)\u001b[0m\n\u001b[1;32m   1316\u001b[0m command \u001b[39m=\u001b[39m proto\u001b[39m.\u001b[39mCALL_COMMAND_NAME \u001b[39m+\u001b[39m\\\n\u001b[1;32m   1317\u001b[0m     \u001b[39mself\u001b[39m\u001b[39m.\u001b[39mcommand_header \u001b[39m+\u001b[39m\\\n\u001b[1;32m   1318\u001b[0m     args_command \u001b[39m+\u001b[39m\\\n\u001b[1;32m   1319\u001b[0m     proto\u001b[39m.\u001b[39mEND_COMMAND_PART\n\u001b[1;32m   1321\u001b[0m answer \u001b[39m=\u001b[39m \u001b[39mself\u001b[39m\u001b[39m.\u001b[39mgateway_client\u001b[39m.\u001b[39msend_command(command)\n\u001b[0;32m-> 1322\u001b[0m return_value \u001b[39m=\u001b[39m get_return_value(\n\u001b[1;32m   1323\u001b[0m     answer, \u001b[39mself\u001b[39;49m\u001b[39m.\u001b[39;49mgateway_client, \u001b[39mself\u001b[39;49m\u001b[39m.\u001b[39;49mtarget_id, \u001b[39mself\u001b[39;49m\u001b[39m.\u001b[39;49mname)\n\u001b[1;32m   1325\u001b[0m \u001b[39mfor\u001b[39;00m temp_arg \u001b[39min\u001b[39;00m temp_args:\n\u001b[1;32m   1326\u001b[0m     \u001b[39mif\u001b[39;00m \u001b[39mhasattr\u001b[39m(temp_arg, \u001b[39m\"\u001b[39m\u001b[39m_detach\u001b[39m\u001b[39m\"\u001b[39m):\n",
      "File \u001b[0;32m~/opt/anaconda3/lib/python3.9/site-packages/pyspark/errors/exceptions/captured.py:175\u001b[0m, in \u001b[0;36mcapture_sql_exception.<locals>.deco\u001b[0;34m(*a, **kw)\u001b[0m\n\u001b[1;32m    171\u001b[0m converted \u001b[39m=\u001b[39m convert_exception(e\u001b[39m.\u001b[39mjava_exception)\n\u001b[1;32m    172\u001b[0m \u001b[39mif\u001b[39;00m \u001b[39mnot\u001b[39;00m \u001b[39misinstance\u001b[39m(converted, UnknownException):\n\u001b[1;32m    173\u001b[0m     \u001b[39m# Hide where the exception came from that shows a non-Pythonic\u001b[39;00m\n\u001b[1;32m    174\u001b[0m     \u001b[39m# JVM exception message.\u001b[39;00m\n\u001b[0;32m--> 175\u001b[0m     \u001b[39mraise\u001b[39;00m converted \u001b[39mfrom\u001b[39;00m \u001b[39mNone\u001b[39m\n\u001b[1;32m    176\u001b[0m \u001b[39melse\u001b[39;00m:\n\u001b[1;32m    177\u001b[0m     \u001b[39mraise\u001b[39;00m\n",
      "\u001b[0;31mAnalysisException\u001b[0m: [DATATYPE_MISMATCH.UNEXPECTED_INPUT_TYPE] Cannot resolve \"explode(rewardsReceiptItemList)\" due to data type mismatch: Parameter 1 requires the (\"ARRAY\" or \"MAP\") type, however \"rewardsReceiptItemList\" has the type \"STRUCT<barcode: STRING, brandCode: STRING, competitiveProduct: BOOLEAN, competitorRewardsGroup: STRING, deleted: BOOLEAN, description: STRING, discountedItemPrice: STRING, finalPrice: STRING, itemNumber: STRING, itemPrice: STRING, metabriteCampaignId: STRING, needsFetchReview: BOOLEAN, needsFetchReviewReason: STRING, originalFinalPrice: STRING, originalMetaBriteBarcode: STRING, originalMetaBriteDescription: STRING, originalMetaBriteItemPrice: STRING, originalMetaBriteQuantityPurchased: BIGINT, originalReceiptItemText: STRING, partnerItemId: STRING, pointsEarned: STRING, pointsNotAwardedReason: STRING, pointsPayerId: STRING, preventTargetGapPoints: BOOLEAN, priceAfterCoupon: STRING, quantityPurchased: BIGINT, rewardsGroup: STRING, rewardsProductPartnerId: STRING, targetPrice: STRING, userFlaggedBarcode: STRING, userFlaggedDescription: STRING, userFlaggedNewItem: BOOLEAN, userFlaggedPrice: STRING, userFlaggedQuantity: BIGINT>\".;\n'Project [_id#32, bonusPointsEarned#33L, bonusPointsEarnedReason#34, createDate#35, dateScanned#36, finishedDate#37, modifyDate#38, pointsAwardedDate#39, pointsEarned#40, purchaseDate#41, purchasedItemCount#42L, explode(rewardsReceiptItemList#154) AS rewardsReceiptItemList#613, rewardsReceiptStatus#44, totalSpent#45, userId#46]\n+- Project [_id#32, bonusPointsEarned#33L, bonusPointsEarnedReason#34, createDate#35, dateScanned#36, finishedDate#37, modifyDate#38, pointsAwardedDate#39, pointsEarned#40, purchaseDate#41, purchasedItemCount#42L, rewardsReceiptItemList#154, rewardsReceiptStatus#44, totalSpent#45, userId#46]\n   +- SubqueryAlias receipts\n      +- View (`receipts`, [_id#32,bonusPointsEarned#33L,bonusPointsEarnedReason#34,createDate#35,dateScanned#36,finishedDate#37,modifyDate#38,pointsAwardedDate#39,pointsEarned#40,purchaseDate#41,purchasedItemCount#42L,rewardsReceiptItemList#154,rewardsReceiptStatus#44,totalSpent#45,userId#46])\n         +- Project [_id#32, bonusPointsEarned#33L, bonusPointsEarnedReason#34, createDate#35, dateScanned#36, finishedDate#37, modifyDate#38, pointsAwardedDate#39, pointsEarned#40, purchaseDate#41, purchasedItemCount#42L, rewardsReceiptItemList#154, rewardsReceiptStatus#44, totalSpent#45, userId#46]\n            +- Generate explode(rewardsReceiptItemList#43), false, [rewardsReceiptItemList#154]\n               +- Project [_id#32, bonusPointsEarned#33L, bonusPointsEarnedReason#34, createDate#35, dateScanned#36, finishedDate#37, modifyDate#38, pointsAwardedDate#39, pointsEarned#40, purchaseDate#41, purchasedItemCount#42L, rewardsReceiptItemList#43, rewardsReceiptStatus#44, totalSpent#45, userId#46]\n                  +- SubqueryAlias receipts\n                     +- View (`receipts`, [_id#32,bonusPointsEarned#33L,bonusPointsEarnedReason#34,createDate#35,dateScanned#36,finishedDate#37,modifyDate#38,pointsAwardedDate#39,pointsEarned#40,purchaseDate#41,purchasedItemCount#42L,rewardsReceiptItemList#43,rewardsReceiptStatus#44,totalSpent#45,userId#46])\n                        +- Relation [_id#32,bonusPointsEarned#33L,bonusPointsEarnedReason#34,createDate#35,dateScanned#36,finishedDate#37,modifyDate#38,pointsAwardedDate#39,pointsEarned#40,purchaseDate#41,purchasedItemCount#42L,rewardsReceiptItemList#43,rewardsReceiptStatus#44,totalSpent#45,userId#46] json\n"
     ]
    }
   ],
   "source": [
    "\n",
    "df= spark.sql(\"\"\"select * from receipts\"\"\").withColumn(\"rewardsReceiptItemList\", explode(\"rewardsReceiptItemList\")) \n",
    "\n",
    "pandas_df = df.toPandas()\n",
    "\n",
    "pandas_df.to_csv('export_receipts.csv', index=False)"
   ]
  }
 ],
 "metadata": {
  "kernelspec": {
   "display_name": "base",
   "language": "python",
   "name": "python3"
  },
  "language_info": {
   "codemirror_mode": {
    "name": "ipython",
    "version": 3
   },
   "file_extension": ".py",
   "mimetype": "text/x-python",
   "name": "python",
   "nbconvert_exporter": "python",
   "pygments_lexer": "ipython3",
   "version": "3.9.12"
  },
  "orig_nbformat": 4
 },
 "nbformat": 4,
 "nbformat_minor": 2
}
